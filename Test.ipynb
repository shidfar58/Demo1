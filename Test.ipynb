{
    "cells": [
        {
            "metadata": {},
            "cell_type": "code",
            "source": "keywords = ['Apple','Orange','Mango']\nask = 'Yes'\nwhile ask=='Yes':\n keyword = input ('Please Enter Key Word :')\n if keyword in keywords:\n  print('Welcome In')\n  ask = 'No' \n  \n else:\n  ask = input ('Wrong! Wana Try again ? (Yes/No) ')\n  if ask == 'No':\n    print ('Good Bye.')",
            "execution_count": 1,
            "outputs": [
                {
                    "output_type": "stream",
                    "text": "Waiting for a Spark session to start...\nSpark Initialization Done! ApplicationId = app-20200627205710-0000\nKERNEL_ID = cf737b46-a5c0-4dee-b2a3-ddc3a05a6892\nPlease Enter Key Word :Hi\nWrong! Wana Try again ? (Yes/No) No\nGood Bye.\n",
                    "name": "stdout"
                }
            ]
        },
        {
            "metadata": {},
            "cell_type": "code",
            "source": "",
            "execution_count": null,
            "outputs": []
        },
        {
            "metadata": {},
            "cell_type": "code",
            "source": "",
            "execution_count": null,
            "outputs": []
        }
    ],
    "metadata": {
        "kernelspec": {
            "name": "python36",
            "display_name": "Python 3.6 with Spark",
            "language": "python3"
        },
        "language_info": {
            "mimetype": "text/x-python",
            "nbconvert_exporter": "python",
            "name": "python",
            "pygments_lexer": "ipython3",
            "version": "3.6.8",
            "file_extension": ".py",
            "codemirror_mode": {
                "version": 3,
                "name": "ipython"
            }
        }
    },
    "nbformat": 4,
    "nbformat_minor": 1
}